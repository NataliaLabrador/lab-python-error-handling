{
 "cells": [
  {
   "cell_type": "markdown",
   "id": "25d7736c-ba17-4aff-b6bb-66eba20fbf4e",
   "metadata": {},
   "source": [
    "# Lab | Error Handling"
   ]
  },
  {
   "cell_type": "markdown",
   "id": "bc99b386-7508-47a0-bcdb-d969deaf6c8b",
   "metadata": {},
   "source": [
    "## Exercise: Error Handling for Managing Customer Orders\n",
    "\n",
    "The implementation of your code for managing customer orders assumes that the user will always enter a valid input. \n",
    "\n",
    "For example, we could modify the `initialize_inventory` function to include error handling.\n",
    "   - If the user enters an invalid quantity (e.g., a negative value or a non-numeric value), display an error message and ask them to re-enter the quantity for that product.\n",
    "   - Use a try-except block to handle the error and continue prompting the user until a valid quantity is entered.\n",
    "\n",
    "```python\n",
    "# Step 1: Define the function for initializing the inventory with error handling\n",
    "def initialize_inventory(products):\n",
    "    inventory = {}\n",
    "    for product in products:\n",
    "        valid_quantity = False\n",
    "        while not valid_quantity:\n",
    "            try:\n",
    "                quantity = int(input(f\"Enter the quantity of {product}s available: \"))\n",
    "                if quantity < 0:\n",
    "                    raise ValueError(\"Invalid quantity! Please enter a non-negative value.\")\n",
    "                valid_quantity = True\n",
    "            except ValueError as error:\n",
    "                print(f\"Error: {error}\")\n",
    "        inventory[product] = quantity\n",
    "    return inventory\n",
    "\n",
    "# Or, in another way:\n",
    "\n",
    "def initialize_inventory(products):\n",
    "    inventory = {}\n",
    "    for product in products:\n",
    "        valid_input = False\n",
    "        while not valid_input:\n",
    "            try:\n",
    "                quantity = int(input(f\"Enter the quantity of {product}s available: \"))\n",
    "                if quantity >= 0:\n",
    "                    inventory[product] = quantity\n",
    "                    valid_input = True\n",
    "                else:\n",
    "                    print(\"Quantity cannot be negative. Please enter a valid quantity.\")\n",
    "            except ValueError:\n",
    "                print(\"Invalid input. Please enter a valid quantity.\")\n",
    "    return inventory\n",
    "```\n",
    "\n",
    "Let's enhance your code by implementing error handling to handle invalid inputs.\n",
    "\n",
    "Follow the steps below to complete the exercise:\n",
    "\n",
    "2. Modify the `calculate_total_price` function to include error handling.\n",
    "   - If the user enters an invalid price (e.g., a negative value or a non-numeric value), display an error message and ask them to re-enter the price for that product.\n",
    "   - Use a try-except block to handle the error and continue prompting the user until a valid price is entered.\n",
    "\n",
    "3. Modify the `get_customer_orders` function to include error handling.\n",
    "   - If the user enters an invalid number of orders (e.g., a negative value or a non-numeric value), display an error message and ask them to re-enter the number of orders.\n",
    "   - If the user enters an invalid product name (e.g., a product name that is not in the inventory), or that doesn't have stock available, display an error message and ask them to re-enter the product name. *Hint: you will need to pass inventory as a parameter*\n",
    "   - Use a try-except block to handle the error and continue prompting the user until a valid product name is entered.\n",
    "\n",
    "4. Test your code by running the program and deliberately entering invalid quantities and product names. Make sure the error handling mechanism works as expected.\n"
   ]
  },
  {
   "cell_type": "code",
   "execution_count": 1,
   "id": "a7eaba97",
   "metadata": {},
   "outputs": [
    {
     "name": "stdout",
     "output_type": "stream",
     "text": [
      "Enter the quantity of t-shirts available: 10\n",
      "Enter the quantity of mugs available: -5\n",
      "Quantity cannot be negative. Please enter a valid quantity.\n",
      "Enter the quantity of mugs available: 5\n",
      "Enter the quantity of hats available: 20\n",
      "Enter the quantity of books available: hello\n",
      "Invalid input. Please enter a valid quantity.\n",
      "Enter the quantity of books available: 15\n",
      "Enter the quantity of keychains available: 10\n"
     ]
    }
   ],
   "source": [
    "# This code belongs to Exercise 1\n",
    "# Modify the initilize_inventory function to include error handling\n",
    "products = [\"t-shirt\", \"mug\", \"hat\", \"book\", \"keychain\"]\n",
    "def initialize_inventory(products):\n",
    "    inventory = {}\n",
    "    for product in products:\n",
    "        valid_input = False\n",
    "        while not valid_input:\n",
    "            try:\n",
    "                quantity = int(input(f\"Enter the quantity of {product}s available: \"))\n",
    "                if quantity >= 0:\n",
    "                    inventory[product] = quantity\n",
    "                    valid_input = True\n",
    "                else:\n",
    "                    print(\"Quantity cannot be negative. Please enter a valid quantity.\")\n",
    "            except ValueError:\n",
    "                print(\"Invalid input. Please enter a valid quantity.\")\n",
    "    return inventory\n",
    "inventory = initialize_inventory(products)"
   ]
  },
  {
   "cell_type": "code",
   "execution_count": 2,
   "id": "b96b16f4",
   "metadata": {},
   "outputs": [
    {
     "name": "stdout",
     "output_type": "stream",
     "text": [
      "Enter the number of customer orders: -2\n",
      "Number of orders must be a positive integer.\n",
      "Enter the number of customer orders: bye\n",
      "Invalid input. Please enter a valid number.\n",
      "Enter the number of customer orders: 4\n",
      "Select the product you want to order: hat\n",
      "Enter the quantity for hat: 2\n",
      "Select the product you want to order: mug\n",
      "Enter the quantity for mug: 1\n",
      "Select the product you want to order: car\n",
      "Invalid product or out of stock. Please select another.\n",
      "Select the product you want to order: book\n",
      "Enter the quantity for book: 2\n",
      "Select the product you want to order: t-shirt\n",
      "Enter the quantity for t-shirt: 3\n",
      "Customer orders: {'hat': 2, 'mug': 1, 'book': 2, 't-shirt': 3}\n"
     ]
    }
   ],
   "source": [
    "# This code belongs to Exercise 3\n",
    "# Modify the get_customer_orders function applying error handling\n",
    "def get_customer_orders(inventory):\n",
    "    orders = {}\n",
    "    \n",
    "    while True:\n",
    "        try:\n",
    "            number_orders = int(input(\"Enter the number of customer orders: \"))\n",
    "            if number_orders <= 0:\n",
    "                print(\"Number of orders must be a positive integer.\")\n",
    "            else:\n",
    "                break\n",
    "        except ValueError:\n",
    "            print(\"Invalid input. Please enter a valid number.\")\n",
    "\n",
    "    for _ in range(number_orders):\n",
    "        while True:\n",
    "            product_chosen = input(\"Select the product you want to order: \")\n",
    "            if product_chosen in inventory and inventory[product_chosen] > 0:\n",
    "                quantity = int(input(f\"Enter the quantity for {product_chosen}: \"))\n",
    "                if quantity <= 0:\n",
    "                    print(\"Quantity must be a positive integer.\")\n",
    "                elif quantity > inventory[product_chosen]:\n",
    "                    print(\"Not enough stock available.\")\n",
    "                else:\n",
    "                    orders[product_chosen] = quantity\n",
    "                    inventory[product_chosen] -= quantity\n",
    "                    break\n",
    "            else:\n",
    "                print(\"Invalid product or out of stock. Please select another.\")\n",
    "\n",
    "    return orders\n",
    "\n",
    "\n",
    "customer_orders = get_customer_orders(inventory)\n",
    "print(\"Customer orders:\", customer_orders)\n",
    "\n"
   ]
  },
  {
   "cell_type": "code",
   "execution_count": 4,
   "id": "d51fefeb",
   "metadata": {},
   "outputs": [
    {
     "name": "stdout",
     "output_type": "stream",
     "text": [
      "Enter the price of hat: 10\n",
      "Enter the price of mug: -5\n",
      "Price cannot be negative. Please enter a valid price.\n",
      "Enter the price of mug: 5\n",
      "Enter the price of book: house\n",
      "Invalid input. Please enter a valid price.\n",
      "Enter the price of book: 15\n",
      "Enter the price of t-shirt: 20\n",
      "Total price: 50.0\n"
     ]
    }
   ],
   "source": [
    "# This code belongs to Exercise 2\n",
    "# Modify the calculate_total_price function applying error handling\n",
    "def calculate_total_price(customer_orders, inventory):\n",
    "    total_price = 0\n",
    "    for product in customer_orders:\n",
    "        valid_input = False\n",
    "        while not valid_input:\n",
    "            try:\n",
    "                price = float(input(f\"Enter the price of {product}: \"))\n",
    "                if price >= 0:\n",
    "                    inventory[product] = price\n",
    "                    total_price += price \n",
    "                    valid_input = True\n",
    "                else:\n",
    "                    print(\"Price cannot be negative. Please enter a valid price.\")\n",
    "            except ValueError:\n",
    "                print(\"Invalid input. Please enter a valid price.\")\n",
    "    return total_price\n",
    "\n",
    "\n",
    "total_price = calculate_total_price(customer_orders, inventory)\n",
    "print(\"Total price:\", total_price)\n"
   ]
  },
  {
   "cell_type": "markdown",
   "id": "2827e624",
   "metadata": {},
   "source": []
  }
 ],
 "metadata": {
  "kernelspec": {
   "display_name": "Python 3 (ipykernel)",
   "language": "python",
   "name": "python3"
  },
  "language_info": {
   "codemirror_mode": {
    "name": "ipython",
    "version": 3
   },
   "file_extension": ".py",
   "mimetype": "text/x-python",
   "name": "python",
   "nbconvert_exporter": "python",
   "pygments_lexer": "ipython3",
   "version": "3.11.5"
  }
 },
 "nbformat": 4,
 "nbformat_minor": 5
}
